{
 "cells": [
  {
   "cell_type": "code",
   "id": "initial_id",
   "metadata": {
    "collapsed": true
   },
   "source": [
    "import subprocess\n",
    "import gradio as gr\n",
    "\n",
    "def start_llamafactory_webui():\n",
    "    # 启动 llamafactory-cli webui 命令\n",
    "    subprocess.Popen(\n",
    "        [\"llamafactory-cli\", \"webui\"],\n",
    "        stdout=open(\"llama_webui.log\", \"w\"),\n",
    "        stderr=subprocess.STDOUT\n",
    "    )\n",
    "    return \"✅ LLaMA-Factory WebUI 已在后台启动，请访问 http://localhost:7860\"\n",
    "\n",
    "with gr.Blocks() as demo:\n",
    "    gr.Markdown(\"# 🧠 我的RAG应用\")\n",
    "    launch_button = gr.Button(\"启动 LLaMA-Factory WebUI\")\n",
    "    result_box = gr.Textbox(label=\"提示信息\")\n",
    "    launch_button.click(fn=start_llamafactory_webui, outputs=result_box)\n",
    "\n",
    "demo.launch()\n"
   ],
   "outputs": [],
   "execution_count": null
  },
  {
   "metadata": {
    "ExecuteTime": {
     "end_time": "2025-07-15T07:43:15.486360Z",
     "start_time": "2025-07-15T07:43:14.610785Z"
    }
   },
   "cell_type": "code",
   "source": [
    "import gradio as gr\n",
    "\n",
    "def process(text):\n",
    "    # 简单处理函数\n",
    "    result = text.upper()\n",
    "    gr.Info(\"处理成功！\", title=\"状态提示\")\n",
    "    return result\n",
    "\n",
    "with gr.Blocks() as demo:\n",
    "    gr.Markdown(\"## ✨ Gradio Info 组件示例\")\n",
    "\n",
    "    with gr.Row():\n",
    "        input_text = gr.Textbox(label=\"输入内容\",value=\"xxx\", placeholder=\"请输入文本\")\n",
    "        output_text = gr.Textbox(label=\"输出结果\")\n",
    "\n",
    "   # info_box = gr.Info(\"🟢 等待输入...\", title=\"状态提示\")\n",
    "\n",
    "    submit_btn = gr.Button(\"提交处理\")\n",
    "\n",
    "    submit_btn.click(fn=process, inputs=input_text, outputs=[output_text])\n",
    "\n",
    "demo.launch()\n"
   ],
   "id": "7f77b198f4775f5c",
   "outputs": [
    {
     "name": "stdout",
     "output_type": "stream",
     "text": [
      "* Running on local URL:  http://127.0.0.1:7862\n",
      "* To create a public link, set `share=True` in `launch()`.\n"
     ]
    },
    {
     "data": {
      "text/plain": [
       "<IPython.core.display.HTML object>"
      ],
      "text/html": [
       "<div><iframe src=\"http://127.0.0.1:7862/\" width=\"100%\" height=\"500\" allow=\"autoplay; camera; microphone; clipboard-read; clipboard-write;\" frameborder=\"0\" allowfullscreen></iframe></div>"
      ]
     },
     "metadata": {},
     "output_type": "display_data"
    },
    {
     "data": {
      "text/plain": []
     },
     "execution_count": 9,
     "metadata": {},
     "output_type": "execute_result"
    }
   ],
   "execution_count": 9
  },
  {
   "metadata": {},
   "cell_type": "code",
   "source": [
    "import gradio as gr\n",
    "def hello_world():\n",
    "    gr.Info('This is some info.')\n",
    "    return \"hello world\"\n",
    "with gr.Blocks() as demo:\n",
    "    md = gr.Markdown()\n",
    "    demo.load(hello_world, inputs=None, outputs=[md])\n",
    "demo.launch()"
   ],
   "id": "bf7a93fe6f09202f",
   "outputs": [],
   "execution_count": null
  }
 ],
 "metadata": {
  "kernelspec": {
   "display_name": "Python 3",
   "language": "python",
   "name": "python3"
  },
  "language_info": {
   "codemirror_mode": {
    "name": "ipython",
    "version": 2
   },
   "file_extension": ".py",
   "mimetype": "text/x-python",
   "name": "python",
   "nbconvert_exporter": "python",
   "pygments_lexer": "ipython2",
   "version": "2.7.6"
  }
 },
 "nbformat": 4,
 "nbformat_minor": 5
}
