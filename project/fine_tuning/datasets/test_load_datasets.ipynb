{
 "cells": [
  {
   "cell_type": "code",
   "id": "initial_id",
   "metadata": {
    "collapsed": true,
    "ExecuteTime": {
     "end_time": "2025-07-13T16:39:41.755545Z",
     "start_time": "2025-07-13T16:39:41.752184Z"
    }
   },
   "source": [
    "import os\n",
    "print(os.getcwd())"
   ],
   "outputs": [
    {
     "name": "stdout",
     "output_type": "stream",
     "text": [
      "C:\\Users\\Xufei Chen\\Desktop\\ntebook\\Rag_Assistant\\project\\datasets\n"
     ]
    }
   ],
   "execution_count": 1
  },
  {
   "metadata": {
    "ExecuteTime": {
     "end_time": "2025-07-13T16:49:02.286222Z",
     "start_time": "2025-07-13T16:48:02.891890Z"
    }
   },
   "cell_type": "code",
   "source": [
    "from modelscope.msdatasets import MsDataset\n",
    "ds =  MsDataset.load('KuugoRen/chinese_law_ft_dataset', cache_dir=\"/\", trust_remote_code=True)"
   ],
   "id": "95b708d3caac9f15",
   "outputs": [
    {
     "name": "stderr",
     "output_type": "stream",
     "text": [
      "2025-07-14 00:48:02,892 - modelscope - WARNING - Use trust_remote_code=True. Will invoke codes from chinese_law_ft_dataset. Please make sure that you can trust the external codes.\n",
      "2025-07-14 00:48:03,495 - modelscope - WARNING - Use trust_remote_code=True. Will invoke codes from KuugoRen/chinese_law_ft_dataset. Please make sure that you can trust the external codes.\n",
      "2025-07-14 00:48:03,495 - modelscope - WARNING - Use trust_remote_code=True. Will invoke codes from KuugoRen/chinese_law_ft_dataset. Please make sure that you can trust the external codes.\n",
      "2025-07-14 00:48:03,495 - modelscope - WARNING - Use trust_remote_code=True. Will invoke codes from KuugoRen/chinese_law_ft_dataset. Please make sure that you can trust the external codes.\n",
      "Repo card metadata block was not found. Setting CardData to empty.\n"
     ]
    },
    {
     "data": {
      "text/plain": [
       "Downloading data:   0%|          | 0.00/372M [00:00<?, ?B/s]"
      ],
      "application/vnd.jupyter.widget-view+json": {
       "version_major": 2,
       "version_minor": 0,
       "model_id": "7069b11d9db142018ca011a2bb4dfd73"
      }
     },
     "metadata": {},
     "output_type": "display_data"
    },
    {
     "name": "stderr",
     "output_type": "stream",
     "text": [
      "2025-07-14 00:48:59,811 - modelscope - INFO - storing https://www.modelscope.cn/api/v1/datasets/KuugoRen/chinese_law_ft_dataset/repo?Source=SDK&Revision=master&FilePath=chinese_law_ft_dataset.json in cache at ./downloads\\1d764c993e925b562ae67b6a0e5fdd9f8472e7ae507cd909b85c5358274a4f76\n",
      "2025-07-14 00:48:59,812 - modelscope - INFO - creating metadata file for ./downloads\\1d764c993e925b562ae67b6a0e5fdd9f8472e7ae507cd909b85c5358274a4f76\n"
     ]
    },
    {
     "data": {
      "text/plain": [
       "Generating train split: 0 examples [00:00, ? examples/s]"
      ],
      "application/vnd.jupyter.widget-view+json": {
       "version_major": 2,
       "version_minor": 0,
       "model_id": "994228fae15943d594db0dd6312dede5"
      }
     },
     "metadata": {},
     "output_type": "display_data"
    }
   ],
   "execution_count": 3
  },
  {
   "metadata": {
    "ExecuteTime": {
     "end_time": "2025-07-13T16:50:53.070981Z",
     "start_time": "2025-07-13T16:50:53.068625Z"
    }
   },
   "cell_type": "code",
   "source": "print(next(iter(ds)))",
   "id": "2a63638b139c8377",
   "outputs": [
    {
     "name": "stdout",
     "output_type": "stream",
     "text": [
      "train\n"
     ]
    }
   ],
   "execution_count": 6
  },
  {
   "metadata": {},
   "cell_type": "code",
   "outputs": [],
   "execution_count": null,
   "source": "ds['train'].to_json('train_data.json')",
   "id": "de2eef6df5ece2b6"
  }
 ],
 "metadata": {
  "kernelspec": {
   "display_name": "Python 3",
   "language": "python",
   "name": "python3"
  },
  "language_info": {
   "codemirror_mode": {
    "name": "ipython",
    "version": 2
   },
   "file_extension": ".py",
   "mimetype": "text/x-python",
   "name": "python",
   "nbconvert_exporter": "python",
   "pygments_lexer": "ipython2",
   "version": "2.7.6"
  }
 },
 "nbformat": 4,
 "nbformat_minor": 5
}
